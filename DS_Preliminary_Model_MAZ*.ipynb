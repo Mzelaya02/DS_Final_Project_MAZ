{
 "cells": [
  {
   "cell_type": "markdown",
   "id": "6d1c9ac5",
   "metadata": {},
   "source": [
    "# Preliminary Predictive Analytics Model"
   ]
  },
  {
   "cell_type": "markdown",
   "id": "a88cecde",
   "metadata": {},
   "source": [
    "## Importing the Libraries"
   ]
  },
  {
   "cell_type": "code",
   "execution_count": 1,
   "id": "075bd79a",
   "metadata": {},
   "outputs": [],
   "source": [
    "# Importing required packages \n",
    "import pandas as pd\n",
    "import numpy as np\n",
    "import matplotlib.pyplot as plt\n",
    "import seaborn as sns\n",
    "import warnings\n",
    "warnings.filterwarnings('ignore')"
   ]
  },
  {
   "cell_type": "markdown",
   "id": "3e59436f",
   "metadata": {},
   "source": [
    "## Importing the Dataset"
   ]
  },
  {
   "cell_type": "code",
   "execution_count": 2,
   "id": "2f6b9279",
   "metadata": {},
   "outputs": [],
   "source": [
    "# Uploading the dataset\n",
    "data=pd.read_csv('jobs_in_data-6.csv')"
   ]
  },
  {
   "cell_type": "code",
   "execution_count": 3,
   "id": "4225b26d",
   "metadata": {},
   "outputs": [
    {
     "data": {
      "text/html": [
       "<div>\n",
       "<style scoped>\n",
       "    .dataframe tbody tr th:only-of-type {\n",
       "        vertical-align: middle;\n",
       "    }\n",
       "\n",
       "    .dataframe tbody tr th {\n",
       "        vertical-align: top;\n",
       "    }\n",
       "\n",
       "    .dataframe thead th {\n",
       "        text-align: right;\n",
       "    }\n",
       "</style>\n",
       "<table border=\"1\" class=\"dataframe\">\n",
       "  <thead>\n",
       "    <tr style=\"text-align: right;\">\n",
       "      <th></th>\n",
       "      <th>work_year</th>\n",
       "      <th>job_title</th>\n",
       "      <th>job_category</th>\n",
       "      <th>salary_currency</th>\n",
       "      <th>salary</th>\n",
       "      <th>salary_in_usd</th>\n",
       "      <th>employee_residence</th>\n",
       "      <th>experience_level</th>\n",
       "      <th>employment_type</th>\n",
       "      <th>work_setting</th>\n",
       "      <th>company_location</th>\n",
       "      <th>company_size</th>\n",
       "    </tr>\n",
       "  </thead>\n",
       "  <tbody>\n",
       "    <tr>\n",
       "      <th>0</th>\n",
       "      <td>2023</td>\n",
       "      <td>Data DevOps Engineer</td>\n",
       "      <td>Data Engineering</td>\n",
       "      <td>EUR</td>\n",
       "      <td>88000</td>\n",
       "      <td>95012</td>\n",
       "      <td>Germany</td>\n",
       "      <td>Mid-level</td>\n",
       "      <td>Full-time</td>\n",
       "      <td>Hybrid</td>\n",
       "      <td>Germany</td>\n",
       "      <td>L</td>\n",
       "    </tr>\n",
       "    <tr>\n",
       "      <th>1</th>\n",
       "      <td>2023</td>\n",
       "      <td>Data Architect</td>\n",
       "      <td>Data Architecture and Modeling</td>\n",
       "      <td>USD</td>\n",
       "      <td>186000</td>\n",
       "      <td>186000</td>\n",
       "      <td>United States</td>\n",
       "      <td>Senior</td>\n",
       "      <td>Full-time</td>\n",
       "      <td>In-person</td>\n",
       "      <td>United States</td>\n",
       "      <td>M</td>\n",
       "    </tr>\n",
       "    <tr>\n",
       "      <th>2</th>\n",
       "      <td>2023</td>\n",
       "      <td>Data Architect</td>\n",
       "      <td>Data Architecture and Modeling</td>\n",
       "      <td>USD</td>\n",
       "      <td>81800</td>\n",
       "      <td>81800</td>\n",
       "      <td>United States</td>\n",
       "      <td>Senior</td>\n",
       "      <td>Full-time</td>\n",
       "      <td>In-person</td>\n",
       "      <td>United States</td>\n",
       "      <td>M</td>\n",
       "    </tr>\n",
       "    <tr>\n",
       "      <th>3</th>\n",
       "      <td>2023</td>\n",
       "      <td>Data Scientist</td>\n",
       "      <td>Data Science and Research</td>\n",
       "      <td>USD</td>\n",
       "      <td>212000</td>\n",
       "      <td>212000</td>\n",
       "      <td>United States</td>\n",
       "      <td>Senior</td>\n",
       "      <td>Full-time</td>\n",
       "      <td>In-person</td>\n",
       "      <td>United States</td>\n",
       "      <td>M</td>\n",
       "    </tr>\n",
       "    <tr>\n",
       "      <th>4</th>\n",
       "      <td>2023</td>\n",
       "      <td>Data Scientist</td>\n",
       "      <td>Data Science and Research</td>\n",
       "      <td>USD</td>\n",
       "      <td>93300</td>\n",
       "      <td>93300</td>\n",
       "      <td>United States</td>\n",
       "      <td>Senior</td>\n",
       "      <td>Full-time</td>\n",
       "      <td>In-person</td>\n",
       "      <td>United States</td>\n",
       "      <td>M</td>\n",
       "    </tr>\n",
       "  </tbody>\n",
       "</table>\n",
       "</div>"
      ],
      "text/plain": [
       "   work_year             job_title                    job_category  \\\n",
       "0       2023  Data DevOps Engineer                Data Engineering   \n",
       "1       2023        Data Architect  Data Architecture and Modeling   \n",
       "2       2023        Data Architect  Data Architecture and Modeling   \n",
       "3       2023        Data Scientist       Data Science and Research   \n",
       "4       2023        Data Scientist       Data Science and Research   \n",
       "\n",
       "  salary_currency  salary  salary_in_usd employee_residence experience_level  \\\n",
       "0             EUR   88000          95012            Germany        Mid-level   \n",
       "1             USD  186000         186000      United States           Senior   \n",
       "2             USD   81800          81800      United States           Senior   \n",
       "3             USD  212000         212000      United States           Senior   \n",
       "4             USD   93300          93300      United States           Senior   \n",
       "\n",
       "  employment_type work_setting company_location company_size  \n",
       "0       Full-time       Hybrid          Germany            L  \n",
       "1       Full-time    In-person    United States            M  \n",
       "2       Full-time    In-person    United States            M  \n",
       "3       Full-time    In-person    United States            M  \n",
       "4       Full-time    In-person    United States            M  "
      ]
     },
     "execution_count": 3,
     "metadata": {},
     "output_type": "execute_result"
    }
   ],
   "source": [
    "data.head()"
   ]
  },
  {
   "cell_type": "code",
   "execution_count": 4,
   "id": "41a51e8e",
   "metadata": {},
   "outputs": [
    {
     "name": "stdout",
     "output_type": "stream",
     "text": [
      "<class 'pandas.core.frame.DataFrame'>\n",
      "RangeIndex: 9355 entries, 0 to 9354\n",
      "Data columns (total 12 columns):\n",
      " #   Column              Non-Null Count  Dtype \n",
      "---  ------              --------------  ----- \n",
      " 0   work_year           9355 non-null   int64 \n",
      " 1   job_title           9355 non-null   object\n",
      " 2   job_category        9355 non-null   object\n",
      " 3   salary_currency     9355 non-null   object\n",
      " 4   salary              9355 non-null   int64 \n",
      " 5   salary_in_usd       9355 non-null   int64 \n",
      " 6   employee_residence  9355 non-null   object\n",
      " 7   experience_level    9355 non-null   object\n",
      " 8   employment_type     9355 non-null   object\n",
      " 9   work_setting        9355 non-null   object\n",
      " 10  company_location    9355 non-null   object\n",
      " 11  company_size        9355 non-null   object\n",
      "dtypes: int64(3), object(9)\n",
      "memory usage: 877.2+ KB\n"
     ]
    }
   ],
   "source": [
    "data.info()"
   ]
  },
  {
   "cell_type": "markdown",
   "id": "a2197c9d",
   "metadata": {},
   "source": [
    "* Most data are object data types; only three columns are integer data types. "
   ]
  },
  {
   "cell_type": "code",
   "execution_count": 5,
   "id": "67201ed5",
   "metadata": {},
   "outputs": [
    {
     "data": {
      "text/html": [
       "<div>\n",
       "<style scoped>\n",
       "    .dataframe tbody tr th:only-of-type {\n",
       "        vertical-align: middle;\n",
       "    }\n",
       "\n",
       "    .dataframe tbody tr th {\n",
       "        vertical-align: top;\n",
       "    }\n",
       "\n",
       "    .dataframe thead th {\n",
       "        text-align: right;\n",
       "    }\n",
       "</style>\n",
       "<table border=\"1\" class=\"dataframe\">\n",
       "  <thead>\n",
       "    <tr style=\"text-align: right;\">\n",
       "      <th></th>\n",
       "      <th>work_year</th>\n",
       "      <th>salary</th>\n",
       "      <th>salary_in_usd</th>\n",
       "    </tr>\n",
       "  </thead>\n",
       "  <tbody>\n",
       "    <tr>\n",
       "      <th>count</th>\n",
       "      <td>9355.000000</td>\n",
       "      <td>9355.000000</td>\n",
       "      <td>9355.000000</td>\n",
       "    </tr>\n",
       "    <tr>\n",
       "      <th>mean</th>\n",
       "      <td>2022.760449</td>\n",
       "      <td>149927.981293</td>\n",
       "      <td>150299.495564</td>\n",
       "    </tr>\n",
       "    <tr>\n",
       "      <th>std</th>\n",
       "      <td>0.519470</td>\n",
       "      <td>63608.835387</td>\n",
       "      <td>63177.372024</td>\n",
       "    </tr>\n",
       "    <tr>\n",
       "      <th>min</th>\n",
       "      <td>2020.000000</td>\n",
       "      <td>14000.000000</td>\n",
       "      <td>15000.000000</td>\n",
       "    </tr>\n",
       "    <tr>\n",
       "      <th>25%</th>\n",
       "      <td>2023.000000</td>\n",
       "      <td>105200.000000</td>\n",
       "      <td>105700.000000</td>\n",
       "    </tr>\n",
       "    <tr>\n",
       "      <th>50%</th>\n",
       "      <td>2023.000000</td>\n",
       "      <td>143860.000000</td>\n",
       "      <td>143000.000000</td>\n",
       "    </tr>\n",
       "    <tr>\n",
       "      <th>75%</th>\n",
       "      <td>2023.000000</td>\n",
       "      <td>187000.000000</td>\n",
       "      <td>186723.000000</td>\n",
       "    </tr>\n",
       "    <tr>\n",
       "      <th>max</th>\n",
       "      <td>2023.000000</td>\n",
       "      <td>450000.000000</td>\n",
       "      <td>450000.000000</td>\n",
       "    </tr>\n",
       "  </tbody>\n",
       "</table>\n",
       "</div>"
      ],
      "text/plain": [
       "         work_year         salary  salary_in_usd\n",
       "count  9355.000000    9355.000000    9355.000000\n",
       "mean   2022.760449  149927.981293  150299.495564\n",
       "std       0.519470   63608.835387   63177.372024\n",
       "min    2020.000000   14000.000000   15000.000000\n",
       "25%    2023.000000  105200.000000  105700.000000\n",
       "50%    2023.000000  143860.000000  143000.000000\n",
       "75%    2023.000000  187000.000000  186723.000000\n",
       "max    2023.000000  450000.000000  450000.000000"
      ]
     },
     "execution_count": 5,
     "metadata": {},
     "output_type": "execute_result"
    }
   ],
   "source": [
    "data.describe()"
   ]
  },
  {
   "cell_type": "markdown",
   "id": "44692e15",
   "metadata": {},
   "source": [
    "* The lowest salary_in_usd was 15,000, the average wage was 143,000, and the maximum salary was 450,000."
   ]
  },
  {
   "cell_type": "code",
   "execution_count": 6,
   "id": "785d2513",
   "metadata": {},
   "outputs": [
    {
     "data": {
      "text/plain": [
       "work_year             0\n",
       "job_title             0\n",
       "job_category          0\n",
       "salary_currency       0\n",
       "salary                0\n",
       "salary_in_usd         0\n",
       "employee_residence    0\n",
       "experience_level      0\n",
       "employment_type       0\n",
       "work_setting          0\n",
       "company_location      0\n",
       "company_size          0\n",
       "dtype: int64"
      ]
     },
     "execution_count": 6,
     "metadata": {},
     "output_type": "execute_result"
    }
   ],
   "source": [
    "# Missing Value\n",
    "data.isnull().sum()"
   ]
  },
  {
   "cell_type": "markdown",
   "id": "5d3e0e0b",
   "metadata": {},
   "source": [
    "* There are no missing data in the dataset."
   ]
  },
  {
   "cell_type": "code",
   "execution_count": 7,
   "id": "69d63442",
   "metadata": {},
   "outputs": [
    {
     "data": {
      "text/plain": [
       "work_year                4\n",
       "job_title              125\n",
       "job_category            10\n",
       "salary_currency         11\n",
       "salary                1507\n",
       "salary_in_usd         1786\n",
       "employee_residence      83\n",
       "experience_level         4\n",
       "employment_type          4\n",
       "work_setting             3\n",
       "company_location        70\n",
       "company_size             3\n",
       "dtype: int64"
      ]
     },
     "execution_count": 7,
     "metadata": {},
     "output_type": "execute_result"
    }
   ],
   "source": [
    "data.nunique()"
   ]
  },
  {
   "cell_type": "markdown",
   "id": "ea38d3b4",
   "metadata": {},
   "source": [
    "* Salary_in_usd, salary, job_title, employee_residence, and company_location are a few columns that have highly unique variables."
   ]
  },
  {
   "cell_type": "code",
   "execution_count": 8,
   "id": "a54b45a2",
   "metadata": {},
   "outputs": [
    {
     "data": {
      "text/plain": [
       "Index(['work_year', 'job_title', 'job_category', 'salary_currency', 'salary',\n",
       "       'salary_in_usd', 'employee_residence', 'experience_level',\n",
       "       'employment_type', 'work_setting', 'company_location', 'company_size'],\n",
       "      dtype='object')"
      ]
     },
     "execution_count": 8,
     "metadata": {},
     "output_type": "execute_result"
    }
   ],
   "source": [
    "data.columns"
   ]
  },
  {
   "cell_type": "code",
   "execution_count": 9,
   "id": "e8b83a80",
   "metadata": {},
   "outputs": [
    {
     "data": {
      "text/html": [
       "<div>\n",
       "<style scoped>\n",
       "    .dataframe tbody tr th:only-of-type {\n",
       "        vertical-align: middle;\n",
       "    }\n",
       "\n",
       "    .dataframe tbody tr th {\n",
       "        vertical-align: top;\n",
       "    }\n",
       "\n",
       "    .dataframe thead th {\n",
       "        text-align: right;\n",
       "    }\n",
       "</style>\n",
       "<table border=\"1\" class=\"dataframe\">\n",
       "  <thead>\n",
       "    <tr style=\"text-align: right;\">\n",
       "      <th></th>\n",
       "      <th>job_title</th>\n",
       "      <th>job_category</th>\n",
       "      <th>salary_currency</th>\n",
       "      <th>employee_residence</th>\n",
       "      <th>experience_level</th>\n",
       "      <th>employment_type</th>\n",
       "      <th>work_setting</th>\n",
       "      <th>company_location</th>\n",
       "      <th>company_size</th>\n",
       "    </tr>\n",
       "  </thead>\n",
       "  <tbody>\n",
       "    <tr>\n",
       "      <th>0</th>\n",
       "      <td>Data DevOps Engineer</td>\n",
       "      <td>Data Engineering</td>\n",
       "      <td>EUR</td>\n",
       "      <td>Germany</td>\n",
       "      <td>Mid-level</td>\n",
       "      <td>Full-time</td>\n",
       "      <td>Hybrid</td>\n",
       "      <td>Germany</td>\n",
       "      <td>L</td>\n",
       "    </tr>\n",
       "    <tr>\n",
       "      <th>1</th>\n",
       "      <td>Data Architect</td>\n",
       "      <td>Data Architecture and Modeling</td>\n",
       "      <td>USD</td>\n",
       "      <td>United States</td>\n",
       "      <td>Senior</td>\n",
       "      <td>Full-time</td>\n",
       "      <td>In-person</td>\n",
       "      <td>United States</td>\n",
       "      <td>M</td>\n",
       "    </tr>\n",
       "    <tr>\n",
       "      <th>2</th>\n",
       "      <td>Data Architect</td>\n",
       "      <td>Data Architecture and Modeling</td>\n",
       "      <td>USD</td>\n",
       "      <td>United States</td>\n",
       "      <td>Senior</td>\n",
       "      <td>Full-time</td>\n",
       "      <td>In-person</td>\n",
       "      <td>United States</td>\n",
       "      <td>M</td>\n",
       "    </tr>\n",
       "    <tr>\n",
       "      <th>3</th>\n",
       "      <td>Data Scientist</td>\n",
       "      <td>Data Science and Research</td>\n",
       "      <td>USD</td>\n",
       "      <td>United States</td>\n",
       "      <td>Senior</td>\n",
       "      <td>Full-time</td>\n",
       "      <td>In-person</td>\n",
       "      <td>United States</td>\n",
       "      <td>M</td>\n",
       "    </tr>\n",
       "    <tr>\n",
       "      <th>4</th>\n",
       "      <td>Data Scientist</td>\n",
       "      <td>Data Science and Research</td>\n",
       "      <td>USD</td>\n",
       "      <td>United States</td>\n",
       "      <td>Senior</td>\n",
       "      <td>Full-time</td>\n",
       "      <td>In-person</td>\n",
       "      <td>United States</td>\n",
       "      <td>M</td>\n",
       "    </tr>\n",
       "    <tr>\n",
       "      <th>...</th>\n",
       "      <td>...</td>\n",
       "      <td>...</td>\n",
       "      <td>...</td>\n",
       "      <td>...</td>\n",
       "      <td>...</td>\n",
       "      <td>...</td>\n",
       "      <td>...</td>\n",
       "      <td>...</td>\n",
       "      <td>...</td>\n",
       "    </tr>\n",
       "    <tr>\n",
       "      <th>9350</th>\n",
       "      <td>Data Specialist</td>\n",
       "      <td>Data Management and Strategy</td>\n",
       "      <td>USD</td>\n",
       "      <td>United States</td>\n",
       "      <td>Senior</td>\n",
       "      <td>Full-time</td>\n",
       "      <td>Remote</td>\n",
       "      <td>United States</td>\n",
       "      <td>L</td>\n",
       "    </tr>\n",
       "    <tr>\n",
       "      <th>9351</th>\n",
       "      <td>Data Scientist</td>\n",
       "      <td>Data Science and Research</td>\n",
       "      <td>USD</td>\n",
       "      <td>United States</td>\n",
       "      <td>Senior</td>\n",
       "      <td>Full-time</td>\n",
       "      <td>Remote</td>\n",
       "      <td>United States</td>\n",
       "      <td>L</td>\n",
       "    </tr>\n",
       "    <tr>\n",
       "      <th>9352</th>\n",
       "      <td>Principal Data Scientist</td>\n",
       "      <td>Data Science and Research</td>\n",
       "      <td>USD</td>\n",
       "      <td>United States</td>\n",
       "      <td>Mid-level</td>\n",
       "      <td>Full-time</td>\n",
       "      <td>Remote</td>\n",
       "      <td>United States</td>\n",
       "      <td>L</td>\n",
       "    </tr>\n",
       "    <tr>\n",
       "      <th>9353</th>\n",
       "      <td>Data Scientist</td>\n",
       "      <td>Data Science and Research</td>\n",
       "      <td>USD</td>\n",
       "      <td>United States</td>\n",
       "      <td>Entry-level</td>\n",
       "      <td>Full-time</td>\n",
       "      <td>Remote</td>\n",
       "      <td>United States</td>\n",
       "      <td>S</td>\n",
       "    </tr>\n",
       "    <tr>\n",
       "      <th>9354</th>\n",
       "      <td>Business Data Analyst</td>\n",
       "      <td>Data Analysis</td>\n",
       "      <td>USD</td>\n",
       "      <td>United States</td>\n",
       "      <td>Entry-level</td>\n",
       "      <td>Contract</td>\n",
       "      <td>Remote</td>\n",
       "      <td>United States</td>\n",
       "      <td>L</td>\n",
       "    </tr>\n",
       "  </tbody>\n",
       "</table>\n",
       "<p>9355 rows × 9 columns</p>\n",
       "</div>"
      ],
      "text/plain": [
       "                     job_title                    job_category  \\\n",
       "0         Data DevOps Engineer                Data Engineering   \n",
       "1               Data Architect  Data Architecture and Modeling   \n",
       "2               Data Architect  Data Architecture and Modeling   \n",
       "3               Data Scientist       Data Science and Research   \n",
       "4               Data Scientist       Data Science and Research   \n",
       "...                        ...                             ...   \n",
       "9350           Data Specialist    Data Management and Strategy   \n",
       "9351            Data Scientist       Data Science and Research   \n",
       "9352  Principal Data Scientist       Data Science and Research   \n",
       "9353            Data Scientist       Data Science and Research   \n",
       "9354     Business Data Analyst                   Data Analysis   \n",
       "\n",
       "     salary_currency employee_residence experience_level employment_type  \\\n",
       "0                EUR            Germany        Mid-level       Full-time   \n",
       "1                USD      United States           Senior       Full-time   \n",
       "2                USD      United States           Senior       Full-time   \n",
       "3                USD      United States           Senior       Full-time   \n",
       "4                USD      United States           Senior       Full-time   \n",
       "...              ...                ...              ...             ...   \n",
       "9350             USD      United States           Senior       Full-time   \n",
       "9351             USD      United States           Senior       Full-time   \n",
       "9352             USD      United States        Mid-level       Full-time   \n",
       "9353             USD      United States      Entry-level       Full-time   \n",
       "9354             USD      United States      Entry-level        Contract   \n",
       "\n",
       "     work_setting company_location company_size  \n",
       "0          Hybrid          Germany            L  \n",
       "1       In-person    United States            M  \n",
       "2       In-person    United States            M  \n",
       "3       In-person    United States            M  \n",
       "4       In-person    United States            M  \n",
       "...           ...              ...          ...  \n",
       "9350       Remote    United States            L  \n",
       "9351       Remote    United States            L  \n",
       "9352       Remote    United States            L  \n",
       "9353       Remote    United States            S  \n",
       "9354       Remote    United States            L  \n",
       "\n",
       "[9355 rows x 9 columns]"
      ]
     },
     "execution_count": 9,
     "metadata": {},
     "output_type": "execute_result"
    }
   ],
   "source": [
    "objects= data.select_dtypes(include=['object'])\n",
    "objects"
   ]
  },
  {
   "cell_type": "markdown",
   "id": "23859bf8",
   "metadata": {},
   "source": [
    "* Data showing only categorical variables."
   ]
  },
  {
   "cell_type": "code",
   "execution_count": 10,
   "id": "0dd3a25c",
   "metadata": {},
   "outputs": [
    {
     "data": {
      "text/html": [
       "<div>\n",
       "<style scoped>\n",
       "    .dataframe tbody tr th:only-of-type {\n",
       "        vertical-align: middle;\n",
       "    }\n",
       "\n",
       "    .dataframe tbody tr th {\n",
       "        vertical-align: top;\n",
       "    }\n",
       "\n",
       "    .dataframe thead th {\n",
       "        text-align: right;\n",
       "    }\n",
       "</style>\n",
       "<table border=\"1\" class=\"dataframe\">\n",
       "  <thead>\n",
       "    <tr style=\"text-align: right;\">\n",
       "      <th></th>\n",
       "      <th>work_year</th>\n",
       "      <th>salary</th>\n",
       "      <th>salary_in_usd</th>\n",
       "    </tr>\n",
       "  </thead>\n",
       "  <tbody>\n",
       "    <tr>\n",
       "      <th>0</th>\n",
       "      <td>2023</td>\n",
       "      <td>88000</td>\n",
       "      <td>95012</td>\n",
       "    </tr>\n",
       "    <tr>\n",
       "      <th>1</th>\n",
       "      <td>2023</td>\n",
       "      <td>186000</td>\n",
       "      <td>186000</td>\n",
       "    </tr>\n",
       "    <tr>\n",
       "      <th>2</th>\n",
       "      <td>2023</td>\n",
       "      <td>81800</td>\n",
       "      <td>81800</td>\n",
       "    </tr>\n",
       "    <tr>\n",
       "      <th>3</th>\n",
       "      <td>2023</td>\n",
       "      <td>212000</td>\n",
       "      <td>212000</td>\n",
       "    </tr>\n",
       "    <tr>\n",
       "      <th>4</th>\n",
       "      <td>2023</td>\n",
       "      <td>93300</td>\n",
       "      <td>93300</td>\n",
       "    </tr>\n",
       "    <tr>\n",
       "      <th>...</th>\n",
       "      <td>...</td>\n",
       "      <td>...</td>\n",
       "      <td>...</td>\n",
       "    </tr>\n",
       "    <tr>\n",
       "      <th>9350</th>\n",
       "      <td>2021</td>\n",
       "      <td>165000</td>\n",
       "      <td>165000</td>\n",
       "    </tr>\n",
       "    <tr>\n",
       "      <th>9351</th>\n",
       "      <td>2020</td>\n",
       "      <td>412000</td>\n",
       "      <td>412000</td>\n",
       "    </tr>\n",
       "    <tr>\n",
       "      <th>9352</th>\n",
       "      <td>2021</td>\n",
       "      <td>151000</td>\n",
       "      <td>151000</td>\n",
       "    </tr>\n",
       "    <tr>\n",
       "      <th>9353</th>\n",
       "      <td>2020</td>\n",
       "      <td>105000</td>\n",
       "      <td>105000</td>\n",
       "    </tr>\n",
       "    <tr>\n",
       "      <th>9354</th>\n",
       "      <td>2020</td>\n",
       "      <td>100000</td>\n",
       "      <td>100000</td>\n",
       "    </tr>\n",
       "  </tbody>\n",
       "</table>\n",
       "<p>9355 rows × 3 columns</p>\n",
       "</div>"
      ],
      "text/plain": [
       "      work_year  salary  salary_in_usd\n",
       "0          2023   88000          95012\n",
       "1          2023  186000         186000\n",
       "2          2023   81800          81800\n",
       "3          2023  212000         212000\n",
       "4          2023   93300          93300\n",
       "...         ...     ...            ...\n",
       "9350       2021  165000         165000\n",
       "9351       2020  412000         412000\n",
       "9352       2021  151000         151000\n",
       "9353       2020  105000         105000\n",
       "9354       2020  100000         100000\n",
       "\n",
       "[9355 rows x 3 columns]"
      ]
     },
     "execution_count": 10,
     "metadata": {},
     "output_type": "execute_result"
    }
   ],
   "source": [
    "ints= data.select_dtypes(exclude=['object'])\n",
    "ints"
   ]
  },
  {
   "cell_type": "markdown",
   "id": "411d6636",
   "metadata": {},
   "source": [
    "* Data showing only numerical variables."
   ]
  },
  {
   "cell_type": "code",
   "execution_count": 11,
   "id": "9785bf4b",
   "metadata": {},
   "outputs": [
    {
     "data": {
      "text/plain": [
       "Data Science and Research         3014\n",
       "Data Engineering                  2260\n",
       "Data Analysis                     1457\n",
       "Machine Learning and AI           1428\n",
       "Leadership and Management          503\n",
       "BI and Visualization               313\n",
       "Data Architecture and Modeling     259\n",
       "Data Management and Strategy        61\n",
       "Data Quality and Operations         55\n",
       "Cloud and Database                   5\n",
       "Name: job_category, dtype: int64"
      ]
     },
     "execution_count": 11,
     "metadata": {},
     "output_type": "execute_result"
    }
   ],
   "source": [
    "# Categorical Data Exploration\n",
    "data['job_category'].value_counts()"
   ]
  },
  {
   "cell_type": "markdown",
   "id": "f26919e1",
   "metadata": {},
   "source": [
    "* Data Science and Research, Data Engineering, Data Analysis, and Machine Learning and AI have a good amount of data entries compared to other job categories in the dataset."
   ]
  },
  {
   "cell_type": "code",
   "execution_count": 12,
   "id": "25967b15",
   "metadata": {},
   "outputs": [
    {
     "data": {
      "text/plain": [
       "Senior         6709\n",
       "Mid-level      1869\n",
       "Entry-level     496\n",
       "Executive       281\n",
       "Name: experience_level, dtype: int64"
      ]
     },
     "execution_count": 12,
     "metadata": {},
     "output_type": "execute_result"
    }
   ],
   "source": [
    "data['experience_level'].value_counts()"
   ]
  },
  {
   "cell_type": "markdown",
   "id": "a2c202a9",
   "metadata": {},
   "source": [
    "* The majority of positions are senior level in the dataset."
   ]
  },
  {
   "cell_type": "code",
   "execution_count": 13,
   "id": "15380b75",
   "metadata": {},
   "outputs": [
    {
     "data": {
      "text/plain": [
       "Full-time    9310\n",
       "Contract       19\n",
       "Part-time      15\n",
       "Freelance      11\n",
       "Name: employment_type, dtype: int64"
      ]
     },
     "execution_count": 13,
     "metadata": {},
     "output_type": "execute_result"
    }
   ],
   "source": [
    "data['employment_type'].value_counts()"
   ]
  },
  {
   "cell_type": "markdown",
   "id": "f79cf0df",
   "metadata": {},
   "source": [
    "* Full-time employment has the most amount of data than other employment types in the dataset. "
   ]
  },
  {
   "cell_type": "code",
   "execution_count": 14,
   "id": "bd330c56",
   "metadata": {},
   "outputs": [
    {
     "data": {
      "text/plain": [
       "In-person    5730\n",
       "Remote       3434\n",
       "Hybrid        191\n",
       "Name: work_setting, dtype: int64"
      ]
     },
     "execution_count": 14,
     "metadata": {},
     "output_type": "execute_result"
    }
   ],
   "source": [
    "data['work_setting'].value_counts()"
   ]
  },
  {
   "cell_type": "markdown",
   "id": "8f57a2e5",
   "metadata": {},
   "source": [
    "* Hybrid positions have the lowest amount of entries in the dataset."
   ]
  },
  {
   "cell_type": "code",
   "execution_count": 15,
   "id": "c3b76146",
   "metadata": {},
   "outputs": [
    {
     "data": {
      "text/plain": [
       "United States     8132\n",
       "United Kingdom     449\n",
       "Canada             226\n",
       "Spain              113\n",
       "Germany             72\n",
       "                  ... \n",
       "Gibraltar            1\n",
       "Ecuador              1\n",
       "Andorra              1\n",
       "Mauritius            1\n",
       "Malta                1\n",
       "Name: company_location, Length: 70, dtype: int64"
      ]
     },
     "execution_count": 15,
     "metadata": {},
     "output_type": "execute_result"
    }
   ],
   "source": [
    "data['company_location'].value_counts()"
   ]
  },
  {
   "cell_type": "markdown",
   "id": "eca8f030",
   "metadata": {},
   "source": [
    "* The United States has the highest amount of job entries in the dataset compared to other countries."
   ]
  },
  {
   "cell_type": "code",
   "execution_count": 16,
   "id": "1c638f89",
   "metadata": {},
   "outputs": [
    {
     "data": {
      "text/plain": [
       "M    8448\n",
       "L     748\n",
       "S     159\n",
       "Name: company_size, dtype: int64"
      ]
     },
     "execution_count": 16,
     "metadata": {},
     "output_type": "execute_result"
    }
   ],
   "source": [
    "data['company_size'].value_counts()"
   ]
  },
  {
   "cell_type": "markdown",
   "id": "b538bef7",
   "metadata": {},
   "source": [
    "* Medium-size companies are the highest compared to small and large companies in the dataset."
   ]
  },
  {
   "cell_type": "markdown",
   "id": "07218f28",
   "metadata": {},
   "source": [
    "## Splitting the Dataset into Independent (X) and Dependent (Y) Variables"
   ]
  },
  {
   "cell_type": "code",
   "execution_count": 17,
   "id": "e370f564",
   "metadata": {},
   "outputs": [
    {
     "data": {
      "text/plain": [
       "Index(['work_year', 'job_title', 'job_category', 'salary_currency', 'salary',\n",
       "       'salary_in_usd', 'employee_residence', 'experience_level',\n",
       "       'employment_type', 'work_setting', 'company_location', 'company_size'],\n",
       "      dtype='object')"
      ]
     },
     "execution_count": 17,
     "metadata": {},
     "output_type": "execute_result"
    }
   ],
   "source": [
    "data.columns"
   ]
  },
  {
   "cell_type": "code",
   "execution_count": 18,
   "id": "9f3c0e83",
   "metadata": {},
   "outputs": [],
   "source": [
    "x=data[['work_year', 'job_title', 'job_category', 'salary_currency', 'salary',\n",
    "       'employee_residence', 'experience_level','employment_type', 'work_setting', \n",
    "        'company_location', 'company_size']]"
   ]
  },
  {
   "cell_type": "code",
   "execution_count": 19,
   "id": "0192023e",
   "metadata": {},
   "outputs": [],
   "source": [
    "y=data[['salary_in_usd']]"
   ]
  },
  {
   "cell_type": "markdown",
   "id": "258e321f",
   "metadata": {},
   "source": [
    "## Transforming the Data"
   ]
  },
  {
   "cell_type": "code",
   "execution_count": 20,
   "id": "ffcb5c2f",
   "metadata": {},
   "outputs": [],
   "source": [
    "# pd.get_dummies\n",
    "\n",
    "x_new=pd.get_dummies(data[['work_year', 'job_title', 'job_category', 'salary_currency', 'salary',\n",
    "       'employee_residence', 'experience_level','employment_type', 'work_setting', \n",
    "        'company_location', 'company_size']]).astype(int)"
   ]
  },
  {
   "cell_type": "code",
   "execution_count": 21,
   "id": "6dbd9737",
   "metadata": {
    "scrolled": true
   },
   "outputs": [
    {
     "data": {
      "text/html": [
       "<div>\n",
       "<style scoped>\n",
       "    .dataframe tbody tr th:only-of-type {\n",
       "        vertical-align: middle;\n",
       "    }\n",
       "\n",
       "    .dataframe tbody tr th {\n",
       "        vertical-align: top;\n",
       "    }\n",
       "\n",
       "    .dataframe thead th {\n",
       "        text-align: right;\n",
       "    }\n",
       "</style>\n",
       "<table border=\"1\" class=\"dataframe\">\n",
       "  <thead>\n",
       "    <tr style=\"text-align: right;\">\n",
       "      <th></th>\n",
       "      <th>work_year</th>\n",
       "      <th>salary</th>\n",
       "      <th>job_title_AI Architect</th>\n",
       "      <th>job_title_AI Developer</th>\n",
       "      <th>job_title_AI Engineer</th>\n",
       "      <th>job_title_AI Programmer</th>\n",
       "      <th>job_title_AI Research Engineer</th>\n",
       "      <th>job_title_AI Scientist</th>\n",
       "      <th>job_title_AWS Data Architect</th>\n",
       "      <th>job_title_Analytics Engineer</th>\n",
       "      <th>...</th>\n",
       "      <th>company_location_Switzerland</th>\n",
       "      <th>company_location_Thailand</th>\n",
       "      <th>company_location_Turkey</th>\n",
       "      <th>company_location_Ukraine</th>\n",
       "      <th>company_location_United Arab Emirates</th>\n",
       "      <th>company_location_United Kingdom</th>\n",
       "      <th>company_location_United States</th>\n",
       "      <th>company_size_L</th>\n",
       "      <th>company_size_M</th>\n",
       "      <th>company_size_S</th>\n",
       "    </tr>\n",
       "  </thead>\n",
       "  <tbody>\n",
       "    <tr>\n",
       "      <th>0</th>\n",
       "      <td>2023</td>\n",
       "      <td>88000</td>\n",
       "      <td>0</td>\n",
       "      <td>0</td>\n",
       "      <td>0</td>\n",
       "      <td>0</td>\n",
       "      <td>0</td>\n",
       "      <td>0</td>\n",
       "      <td>0</td>\n",
       "      <td>0</td>\n",
       "      <td>...</td>\n",
       "      <td>0</td>\n",
       "      <td>0</td>\n",
       "      <td>0</td>\n",
       "      <td>0</td>\n",
       "      <td>0</td>\n",
       "      <td>0</td>\n",
       "      <td>0</td>\n",
       "      <td>1</td>\n",
       "      <td>0</td>\n",
       "      <td>0</td>\n",
       "    </tr>\n",
       "    <tr>\n",
       "      <th>1</th>\n",
       "      <td>2023</td>\n",
       "      <td>186000</td>\n",
       "      <td>0</td>\n",
       "      <td>0</td>\n",
       "      <td>0</td>\n",
       "      <td>0</td>\n",
       "      <td>0</td>\n",
       "      <td>0</td>\n",
       "      <td>0</td>\n",
       "      <td>0</td>\n",
       "      <td>...</td>\n",
       "      <td>0</td>\n",
       "      <td>0</td>\n",
       "      <td>0</td>\n",
       "      <td>0</td>\n",
       "      <td>0</td>\n",
       "      <td>0</td>\n",
       "      <td>1</td>\n",
       "      <td>0</td>\n",
       "      <td>1</td>\n",
       "      <td>0</td>\n",
       "    </tr>\n",
       "    <tr>\n",
       "      <th>2</th>\n",
       "      <td>2023</td>\n",
       "      <td>81800</td>\n",
       "      <td>0</td>\n",
       "      <td>0</td>\n",
       "      <td>0</td>\n",
       "      <td>0</td>\n",
       "      <td>0</td>\n",
       "      <td>0</td>\n",
       "      <td>0</td>\n",
       "      <td>0</td>\n",
       "      <td>...</td>\n",
       "      <td>0</td>\n",
       "      <td>0</td>\n",
       "      <td>0</td>\n",
       "      <td>0</td>\n",
       "      <td>0</td>\n",
       "      <td>0</td>\n",
       "      <td>1</td>\n",
       "      <td>0</td>\n",
       "      <td>1</td>\n",
       "      <td>0</td>\n",
       "    </tr>\n",
       "    <tr>\n",
       "      <th>3</th>\n",
       "      <td>2023</td>\n",
       "      <td>212000</td>\n",
       "      <td>0</td>\n",
       "      <td>0</td>\n",
       "      <td>0</td>\n",
       "      <td>0</td>\n",
       "      <td>0</td>\n",
       "      <td>0</td>\n",
       "      <td>0</td>\n",
       "      <td>0</td>\n",
       "      <td>...</td>\n",
       "      <td>0</td>\n",
       "      <td>0</td>\n",
       "      <td>0</td>\n",
       "      <td>0</td>\n",
       "      <td>0</td>\n",
       "      <td>0</td>\n",
       "      <td>1</td>\n",
       "      <td>0</td>\n",
       "      <td>1</td>\n",
       "      <td>0</td>\n",
       "    </tr>\n",
       "    <tr>\n",
       "      <th>4</th>\n",
       "      <td>2023</td>\n",
       "      <td>93300</td>\n",
       "      <td>0</td>\n",
       "      <td>0</td>\n",
       "      <td>0</td>\n",
       "      <td>0</td>\n",
       "      <td>0</td>\n",
       "      <td>0</td>\n",
       "      <td>0</td>\n",
       "      <td>0</td>\n",
       "      <td>...</td>\n",
       "      <td>0</td>\n",
       "      <td>0</td>\n",
       "      <td>0</td>\n",
       "      <td>0</td>\n",
       "      <td>0</td>\n",
       "      <td>0</td>\n",
       "      <td>1</td>\n",
       "      <td>0</td>\n",
       "      <td>1</td>\n",
       "      <td>0</td>\n",
       "    </tr>\n",
       "  </tbody>\n",
       "</table>\n",
       "<p>5 rows × 315 columns</p>\n",
       "</div>"
      ],
      "text/plain": [
       "   work_year  salary  job_title_AI Architect  job_title_AI Developer  \\\n",
       "0       2023   88000                       0                       0   \n",
       "1       2023  186000                       0                       0   \n",
       "2       2023   81800                       0                       0   \n",
       "3       2023  212000                       0                       0   \n",
       "4       2023   93300                       0                       0   \n",
       "\n",
       "   job_title_AI Engineer  job_title_AI Programmer  \\\n",
       "0                      0                        0   \n",
       "1                      0                        0   \n",
       "2                      0                        0   \n",
       "3                      0                        0   \n",
       "4                      0                        0   \n",
       "\n",
       "   job_title_AI Research Engineer  job_title_AI Scientist  \\\n",
       "0                               0                       0   \n",
       "1                               0                       0   \n",
       "2                               0                       0   \n",
       "3                               0                       0   \n",
       "4                               0                       0   \n",
       "\n",
       "   job_title_AWS Data Architect  job_title_Analytics Engineer  ...  \\\n",
       "0                             0                             0  ...   \n",
       "1                             0                             0  ...   \n",
       "2                             0                             0  ...   \n",
       "3                             0                             0  ...   \n",
       "4                             0                             0  ...   \n",
       "\n",
       "   company_location_Switzerland  company_location_Thailand  \\\n",
       "0                             0                          0   \n",
       "1                             0                          0   \n",
       "2                             0                          0   \n",
       "3                             0                          0   \n",
       "4                             0                          0   \n",
       "\n",
       "   company_location_Turkey  company_location_Ukraine  \\\n",
       "0                        0                         0   \n",
       "1                        0                         0   \n",
       "2                        0                         0   \n",
       "3                        0                         0   \n",
       "4                        0                         0   \n",
       "\n",
       "   company_location_United Arab Emirates  company_location_United Kingdom  \\\n",
       "0                                      0                                0   \n",
       "1                                      0                                0   \n",
       "2                                      0                                0   \n",
       "3                                      0                                0   \n",
       "4                                      0                                0   \n",
       "\n",
       "   company_location_United States  company_size_L  company_size_M  \\\n",
       "0                               0               1               0   \n",
       "1                               1               0               1   \n",
       "2                               1               0               1   \n",
       "3                               1               0               1   \n",
       "4                               1               0               1   \n",
       "\n",
       "   company_size_S  \n",
       "0               0  \n",
       "1               0  \n",
       "2               0  \n",
       "3               0  \n",
       "4               0  \n",
       "\n",
       "[5 rows x 315 columns]"
      ]
     },
     "execution_count": 21,
     "metadata": {},
     "output_type": "execute_result"
    }
   ],
   "source": [
    "x_new.head()"
   ]
  },
  {
   "cell_type": "markdown",
   "id": "598589ff",
   "metadata": {},
   "source": [
    "# K-Nearest Neighbor "
   ]
  },
  {
   "cell_type": "code",
   "execution_count": 22,
   "id": "c9e1211c",
   "metadata": {},
   "outputs": [],
   "source": [
    "#importing additional required packages\n",
    "from sklearn import neighbors\n",
    "from sklearn.neighbors import KNeighborsClassifier\n",
    "from sklearn.metrics import accuracy_score\n",
    "from sklearn.metrics import confusion_matrix\n",
    "from sklearn.metrics import confusion_matrix, ConfusionMatrixDisplay\n",
    "from sklearn.neighbors import KNeighborsRegressor\n",
    "from sklearn.metrics import mean_squared_error\n",
    "from math import sqrt\n",
    "import matplotlib.pyplot as plt\n",
    "%matplotlib inline"
   ]
  },
  {
   "cell_type": "markdown",
   "id": "f130dda7",
   "metadata": {},
   "source": [
    "## Splitting the Dataset into Independent (X) and Dependent (Y) Variables"
   ]
  },
  {
   "cell_type": "code",
   "execution_count": 23,
   "id": "b6d412ba",
   "metadata": {},
   "outputs": [
    {
     "data": {
      "text/plain": [
       "Index(['work_year', 'job_title', 'job_category', 'salary_currency', 'salary',\n",
       "       'salary_in_usd', 'employee_residence', 'experience_level',\n",
       "       'employment_type', 'work_setting', 'company_location', 'company_size'],\n",
       "      dtype='object')"
      ]
     },
     "execution_count": 23,
     "metadata": {},
     "output_type": "execute_result"
    }
   ],
   "source": [
    "data.columns"
   ]
  },
  {
   "cell_type": "code",
   "execution_count": 24,
   "id": "be54f8e8",
   "metadata": {},
   "outputs": [],
   "source": [
    "x2=data[['work_year', 'job_title', 'job_category', 'salary_currency', 'salary',\n",
    "         'employee_residence', 'experience_level', 'employment_type', 'work_setting',\n",
    "         'company_location', 'company_size']]"
   ]
  },
  {
   "cell_type": "code",
   "execution_count": 25,
   "id": "63de4b7d",
   "metadata": {},
   "outputs": [],
   "source": [
    "y2=data[['salary_in_usd']]"
   ]
  },
  {
   "cell_type": "markdown",
   "id": "40510c1f",
   "metadata": {},
   "source": [
    "## Transforming the Data"
   ]
  },
  {
   "cell_type": "code",
   "execution_count": 26,
   "id": "73f0f340",
   "metadata": {},
   "outputs": [],
   "source": [
    "# pd.get_dummies \n",
    "\n",
    "x_new_2= pd.get_dummies(data[['work_year', 'job_title', 'job_category', 'salary_currency', 'salary',\n",
    "         'employee_residence', 'experience_level', 'employment_type', 'work_setting',\n",
    "         'company_location', 'company_size']]).astype(int)"
   ]
  },
  {
   "cell_type": "code",
   "execution_count": 27,
   "id": "5198b856",
   "metadata": {
    "scrolled": true
   },
   "outputs": [
    {
     "data": {
      "text/html": [
       "<div>\n",
       "<style scoped>\n",
       "    .dataframe tbody tr th:only-of-type {\n",
       "        vertical-align: middle;\n",
       "    }\n",
       "\n",
       "    .dataframe tbody tr th {\n",
       "        vertical-align: top;\n",
       "    }\n",
       "\n",
       "    .dataframe thead th {\n",
       "        text-align: right;\n",
       "    }\n",
       "</style>\n",
       "<table border=\"1\" class=\"dataframe\">\n",
       "  <thead>\n",
       "    <tr style=\"text-align: right;\">\n",
       "      <th></th>\n",
       "      <th>work_year</th>\n",
       "      <th>salary</th>\n",
       "      <th>job_title_AI Architect</th>\n",
       "      <th>job_title_AI Developer</th>\n",
       "      <th>job_title_AI Engineer</th>\n",
       "      <th>job_title_AI Programmer</th>\n",
       "      <th>job_title_AI Research Engineer</th>\n",
       "      <th>job_title_AI Scientist</th>\n",
       "      <th>job_title_AWS Data Architect</th>\n",
       "      <th>job_title_Analytics Engineer</th>\n",
       "      <th>...</th>\n",
       "      <th>company_location_Switzerland</th>\n",
       "      <th>company_location_Thailand</th>\n",
       "      <th>company_location_Turkey</th>\n",
       "      <th>company_location_Ukraine</th>\n",
       "      <th>company_location_United Arab Emirates</th>\n",
       "      <th>company_location_United Kingdom</th>\n",
       "      <th>company_location_United States</th>\n",
       "      <th>company_size_L</th>\n",
       "      <th>company_size_M</th>\n",
       "      <th>company_size_S</th>\n",
       "    </tr>\n",
       "  </thead>\n",
       "  <tbody>\n",
       "    <tr>\n",
       "      <th>0</th>\n",
       "      <td>2023</td>\n",
       "      <td>88000</td>\n",
       "      <td>0</td>\n",
       "      <td>0</td>\n",
       "      <td>0</td>\n",
       "      <td>0</td>\n",
       "      <td>0</td>\n",
       "      <td>0</td>\n",
       "      <td>0</td>\n",
       "      <td>0</td>\n",
       "      <td>...</td>\n",
       "      <td>0</td>\n",
       "      <td>0</td>\n",
       "      <td>0</td>\n",
       "      <td>0</td>\n",
       "      <td>0</td>\n",
       "      <td>0</td>\n",
       "      <td>0</td>\n",
       "      <td>1</td>\n",
       "      <td>0</td>\n",
       "      <td>0</td>\n",
       "    </tr>\n",
       "    <tr>\n",
       "      <th>1</th>\n",
       "      <td>2023</td>\n",
       "      <td>186000</td>\n",
       "      <td>0</td>\n",
       "      <td>0</td>\n",
       "      <td>0</td>\n",
       "      <td>0</td>\n",
       "      <td>0</td>\n",
       "      <td>0</td>\n",
       "      <td>0</td>\n",
       "      <td>0</td>\n",
       "      <td>...</td>\n",
       "      <td>0</td>\n",
       "      <td>0</td>\n",
       "      <td>0</td>\n",
       "      <td>0</td>\n",
       "      <td>0</td>\n",
       "      <td>0</td>\n",
       "      <td>1</td>\n",
       "      <td>0</td>\n",
       "      <td>1</td>\n",
       "      <td>0</td>\n",
       "    </tr>\n",
       "    <tr>\n",
       "      <th>2</th>\n",
       "      <td>2023</td>\n",
       "      <td>81800</td>\n",
       "      <td>0</td>\n",
       "      <td>0</td>\n",
       "      <td>0</td>\n",
       "      <td>0</td>\n",
       "      <td>0</td>\n",
       "      <td>0</td>\n",
       "      <td>0</td>\n",
       "      <td>0</td>\n",
       "      <td>...</td>\n",
       "      <td>0</td>\n",
       "      <td>0</td>\n",
       "      <td>0</td>\n",
       "      <td>0</td>\n",
       "      <td>0</td>\n",
       "      <td>0</td>\n",
       "      <td>1</td>\n",
       "      <td>0</td>\n",
       "      <td>1</td>\n",
       "      <td>0</td>\n",
       "    </tr>\n",
       "    <tr>\n",
       "      <th>3</th>\n",
       "      <td>2023</td>\n",
       "      <td>212000</td>\n",
       "      <td>0</td>\n",
       "      <td>0</td>\n",
       "      <td>0</td>\n",
       "      <td>0</td>\n",
       "      <td>0</td>\n",
       "      <td>0</td>\n",
       "      <td>0</td>\n",
       "      <td>0</td>\n",
       "      <td>...</td>\n",
       "      <td>0</td>\n",
       "      <td>0</td>\n",
       "      <td>0</td>\n",
       "      <td>0</td>\n",
       "      <td>0</td>\n",
       "      <td>0</td>\n",
       "      <td>1</td>\n",
       "      <td>0</td>\n",
       "      <td>1</td>\n",
       "      <td>0</td>\n",
       "    </tr>\n",
       "    <tr>\n",
       "      <th>4</th>\n",
       "      <td>2023</td>\n",
       "      <td>93300</td>\n",
       "      <td>0</td>\n",
       "      <td>0</td>\n",
       "      <td>0</td>\n",
       "      <td>0</td>\n",
       "      <td>0</td>\n",
       "      <td>0</td>\n",
       "      <td>0</td>\n",
       "      <td>0</td>\n",
       "      <td>...</td>\n",
       "      <td>0</td>\n",
       "      <td>0</td>\n",
       "      <td>0</td>\n",
       "      <td>0</td>\n",
       "      <td>0</td>\n",
       "      <td>0</td>\n",
       "      <td>1</td>\n",
       "      <td>0</td>\n",
       "      <td>1</td>\n",
       "      <td>0</td>\n",
       "    </tr>\n",
       "  </tbody>\n",
       "</table>\n",
       "<p>5 rows × 315 columns</p>\n",
       "</div>"
      ],
      "text/plain": [
       "   work_year  salary  job_title_AI Architect  job_title_AI Developer  \\\n",
       "0       2023   88000                       0                       0   \n",
       "1       2023  186000                       0                       0   \n",
       "2       2023   81800                       0                       0   \n",
       "3       2023  212000                       0                       0   \n",
       "4       2023   93300                       0                       0   \n",
       "\n",
       "   job_title_AI Engineer  job_title_AI Programmer  \\\n",
       "0                      0                        0   \n",
       "1                      0                        0   \n",
       "2                      0                        0   \n",
       "3                      0                        0   \n",
       "4                      0                        0   \n",
       "\n",
       "   job_title_AI Research Engineer  job_title_AI Scientist  \\\n",
       "0                               0                       0   \n",
       "1                               0                       0   \n",
       "2                               0                       0   \n",
       "3                               0                       0   \n",
       "4                               0                       0   \n",
       "\n",
       "   job_title_AWS Data Architect  job_title_Analytics Engineer  ...  \\\n",
       "0                             0                             0  ...   \n",
       "1                             0                             0  ...   \n",
       "2                             0                             0  ...   \n",
       "3                             0                             0  ...   \n",
       "4                             0                             0  ...   \n",
       "\n",
       "   company_location_Switzerland  company_location_Thailand  \\\n",
       "0                             0                          0   \n",
       "1                             0                          0   \n",
       "2                             0                          0   \n",
       "3                             0                          0   \n",
       "4                             0                          0   \n",
       "\n",
       "   company_location_Turkey  company_location_Ukraine  \\\n",
       "0                        0                         0   \n",
       "1                        0                         0   \n",
       "2                        0                         0   \n",
       "3                        0                         0   \n",
       "4                        0                         0   \n",
       "\n",
       "   company_location_United Arab Emirates  company_location_United Kingdom  \\\n",
       "0                                      0                                0   \n",
       "1                                      0                                0   \n",
       "2                                      0                                0   \n",
       "3                                      0                                0   \n",
       "4                                      0                                0   \n",
       "\n",
       "   company_location_United States  company_size_L  company_size_M  \\\n",
       "0                               0               1               0   \n",
       "1                               1               0               1   \n",
       "2                               1               0               1   \n",
       "3                               1               0               1   \n",
       "4                               1               0               1   \n",
       "\n",
       "   company_size_S  \n",
       "0               0  \n",
       "1               0  \n",
       "2               0  \n",
       "3               0  \n",
       "4               0  \n",
       "\n",
       "[5 rows x 315 columns]"
      ]
     },
     "execution_count": 27,
     "metadata": {},
     "output_type": "execute_result"
    }
   ],
   "source": [
    "x_new_2.head()"
   ]
  },
  {
   "cell_type": "markdown",
   "id": "9e5d5a4a",
   "metadata": {},
   "source": [
    "## Splitting the Dataset"
   ]
  },
  {
   "cell_type": "code",
   "execution_count": 28,
   "id": "58f1b62e",
   "metadata": {},
   "outputs": [],
   "source": [
    "# Splitting the dataset into training and test set\n",
    "from sklearn.model_selection import train_test_split\n",
    "X_train, X_test, y_train, y_test=train_test_split(x_new_2, y, test_size=0.15, random_state=1)"
   ]
  },
  {
   "cell_type": "code",
   "execution_count": 29,
   "id": "e2e92cf1",
   "metadata": {},
   "outputs": [
    {
     "data": {
      "text/plain": [
       "KNeighborsRegressor(n_neighbors=44)"
      ]
     },
     "execution_count": 29,
     "metadata": {},
     "output_type": "execute_result"
    }
   ],
   "source": [
    "# Training the KNN model on the training set\n",
    "k=44  # Choosing the value of K (number of neighbors)\n",
    "knn_regressor=KNeighborsRegressor(n_neighbors=k)\n",
    "knn_regressor.fit(X_train, y_train)"
   ]
  },
  {
   "cell_type": "markdown",
   "id": "763a807f",
   "metadata": {},
   "source": [
    "## Predicting the Test Set Results"
   ]
  },
  {
   "cell_type": "code",
   "execution_count": 30,
   "id": "de5760d8",
   "metadata": {},
   "outputs": [],
   "source": [
    "y_pred= knn_regressor.predict(X_test.values)"
   ]
  },
  {
   "cell_type": "markdown",
   "id": "567aaacc",
   "metadata": {},
   "source": [
    "## Calculate MSE, RMSE"
   ]
  },
  {
   "cell_type": "code",
   "execution_count": 31,
   "id": "051dcce3",
   "metadata": {},
   "outputs": [
    {
     "name": "stdout",
     "output_type": "stream",
     "text": [
      "K = 1 MSE: 216807665.80270654\n",
      "K = 2 MSE: 218093514.3596866\n",
      "K = 3 MSE: 218459217.84290916\n",
      "K = 4 MSE: 216653458.7664263\n",
      "K = 5 MSE: 218285400.3223077\n",
      "K = 6 MSE: 218920557.51705447\n",
      "K = 7 MSE: 219845400.10695386\n",
      "K = 8 MSE: 220344568.177228\n",
      "K = 9 MSE: 220601460.99397665\n",
      "K = 10 MSE: 220466235.12094733\n",
      "K = 11 MSE: 221219899.78003818\n",
      "K = 12 MSE: 221335954.83287832\n",
      "K = 13 MSE: 223267350.6315978\n",
      "K = 14 MSE: 223129496.3247318\n",
      "K = 15 MSE: 223072960.03605887\n",
      "K = 16 MSE: 222964510.44973904\n",
      "K = 17 MSE: 223109233.82140496\n",
      "K = 18 MSE: 223621143.39334923\n",
      "K = 19 MSE: 223988856.2964561\n",
      "K = 20 MSE: 224399680.48269585\n",
      "K = 21 MSE: 226051030.72989708\n",
      "K = 22 MSE: 226421261.20898673\n",
      "K = 23 MSE: 226744075.70467445\n",
      "K = 24 MSE: 226911283.33458716\n",
      "K = 25 MSE: 227131150.59931403\n",
      "K = 26 MSE: 227029855.79991445\n",
      "K = 27 MSE: 227328233.67685702\n",
      "K = 28 MSE: 227550194.04757908\n",
      "K = 29 MSE: 228840803.33757293\n",
      "K = 30 MSE: 230974831.1938248\n",
      "K = 31 MSE: 231247405.80245015\n",
      "K = 32 MSE: 230176424.8685209\n",
      "K = 33 MSE: 230759221.0407945\n",
      "K = 34 MSE: 230055298.91301546\n",
      "K = 35 MSE: 230032074.1806105\n",
      "K = 36 MSE: 230297619.6973418\n",
      "K = 37 MSE: 230558719.63366333\n",
      "K = 38 MSE: 230390277.62041083\n",
      "K = 39 MSE: 230661428.31021023\n",
      "K = 40 MSE: 230420711.1205538\n",
      "K = 41 MSE: 230210962.30566737\n",
      "K = 42 MSE: 229924438.32281435\n",
      "K = 43 MSE: 230243010.14863548\n",
      "K = 44 MSE: 230410095.93674797\n",
      "K = 45 MSE: 230722458.33602405\n",
      "K = 46 MSE: 231021302.14167833\n",
      "K = 47 MSE: 231188229.45460615\n",
      "K = 48 MSE: 231252551.96468177\n",
      "K = 49 MSE: 231016893.10005295\n",
      "K = 50 MSE: 230788230.02397722\n"
     ]
    }
   ],
   "source": [
    "# Example: Trying different values of K\n",
    "k_values = list(range(1,51))\n",
    "for k in k_values:\n",
    "    knn_regressor = KNeighborsRegressor(n_neighbors=k)\n",
    "    knn_regressor.fit(X_train, y_train)\n",
    "    y_pred = knn_regressor.predict(X_test)\n",
    "    mse = mean_squared_error(y_test, y_pred)\n",
    "    print(\"K =\", k, \"MSE:\", mse)"
   ]
  },
  {
   "cell_type": "code",
   "execution_count": 32,
   "id": "4f69d341",
   "metadata": {},
   "outputs": [
    {
     "name": "stdout",
     "output_type": "stream",
     "text": [
      "RMSE value for k=  1 is: 14724.390167429907\n",
      "RMSE value for k=  2 is: 14767.98951650788\n",
      "RMSE value for k=  3 is: 14780.36595767876\n",
      "RMSE value for k=  4 is: 14719.152786978817\n",
      "RMSE value for k=  5 is: 14774.484773497441\n",
      "RMSE value for k=  6 is: 14795.964230730435\n",
      "RMSE value for k=  7 is: 14827.184496962122\n",
      "RMSE value for k=  8 is: 14844.007820572853\n",
      "RMSE value for k=  9 is: 14852.65838137997\n",
      "RMSE value for k=  10 is: 14848.10543877391\n",
      "RMSE value for k=  11 is: 14873.462938402683\n",
      "RMSE value for k=  12 is: 14877.363840172704\n",
      "RMSE value for k=  13 is: 14942.13340295146\n",
      "RMSE value for k=  14 is: 14937.5197514424\n",
      "RMSE value for k=  15 is: 14935.627205981638\n",
      "RMSE value for k=  16 is: 14931.996197753972\n",
      "RMSE value for k=  17 is: 14936.841494151466\n",
      "RMSE value for k=  18 is: 14953.967480015102\n",
      "RMSE value for k=  19 is: 14966.257257459398\n",
      "RMSE value for k=  20 is: 14979.975984049368\n",
      "RMSE value for k=  21 is: 15034.993539403236\n",
      "RMSE value for k=  22 is: 15047.30079479329\n",
      "RMSE value for k=  23 is: 15058.023632093105\n",
      "RMSE value for k=  24 is: 15063.574719653605\n",
      "RMSE value for k=  25 is: 15070.870930351504\n",
      "RMSE value for k=  26 is: 15067.509940262673\n",
      "RMSE value for k=  27 is: 15077.408055659203\n",
      "RMSE value for k=  28 is: 15084.766953704624\n",
      "RMSE value for k=  29 is: 15127.485030155307\n",
      "RMSE value for k=  30 is: 15197.856138081608\n",
      "RMSE value for k=  31 is: 15206.821028816317\n",
      "RMSE value for k=  32 is: 15171.566328778346\n",
      "RMSE value for k=  33 is: 15190.761042185954\n",
      "RMSE value for k=  34 is: 15167.573929703309\n",
      "RMSE value for k=  35 is: 15166.808305659122\n",
      "RMSE value for k=  36 is: 15175.559946747988\n",
      "RMSE value for k=  37 is: 15184.160155690644\n",
      "RMSE value for k=  38 is: 15178.612506431899\n",
      "RMSE value for k=  39 is: 15187.5418784677\n",
      "RMSE value for k=  40 is: 15179.614985912976\n",
      "RMSE value for k=  41 is: 15172.704515203193\n",
      "RMSE value for k=  42 is: 15163.259488738375\n",
      "RMSE value for k=  43 is: 15173.760580312168\n",
      "RMSE value for k=  44 is: 15179.265329282178\n",
      "RMSE value for k=  45 is: 15189.550958998889\n",
      "RMSE value for k=  46 is: 15199.384926426408\n",
      "RMSE value for k=  47 is: 15204.875187077536\n",
      "RMSE value for k=  48 is: 15206.990233595923\n",
      "RMSE value for k=  49 is: 15199.239885601284\n",
      "RMSE value for k=  50 is: 15191.715835414287\n"
     ]
    }
   ],
   "source": [
    "rmse_val = [] #to store rmse values for different k\n",
    "for K in range(50):\n",
    "    K = K+1\n",
    "    model = neighbors.KNeighborsRegressor(n_neighbors = K)\n",
    "\n",
    "    model.fit(X_train, y_train)  #fitting the model\n",
    "    y_pred=model.predict(X_test) #predicting the test set\n",
    "    error = sqrt(mean_squared_error(y_test,y_pred)) #calculating rmse\n",
    "    rmse_val.append(error) #storing rmse values\n",
    "    print('RMSE value for k= ' , K , 'is:', error)"
   ]
  },
  {
   "cell_type": "code",
   "execution_count": 33,
   "id": "446447a1",
   "metadata": {},
   "outputs": [
    {
     "data": {
      "text/plain": [
       "<AxesSubplot:>"
      ]
     },
     "execution_count": 33,
     "metadata": {},
     "output_type": "execute_result"
    },
    {
     "data": {
      "image/png": "[encoded data removed]",
      "text/plain": [
       "<Figure size 640x480 with 1 Axes>"
      ]
     },
     "metadata": {},
     "output_type": "display_data"
    }
   ],
   "source": [
    "# plotting the rmse values against k values\n",
    "curve = pd.DataFrame(rmse_val) #elbow curve \n",
    "curve.plot()"
   ]
  },
  {
   "cell_type": "markdown",
   "id": "6c92d88e",
   "metadata": {},
   "source": [
    "* As you can see, the MSE and RMSE values increase as we increase the k values. At k= 4, the MSE is approximately 216653458.77, and the RMSE is about 14719.15. The RMSE then increases while the k value rises. We can safely say that k= 4 will give us the best result, as the lower the RMSE score, the better."
   ]
  },
  {
   "cell_type": "code",
   "execution_count": 34,
   "id": "efd89ba0",
   "metadata": {},
   "outputs": [
    {
     "data": {
      "text/plain": [
       "KNeighborsRegressor(n_neighbors=4)"
      ]
     },
     "execution_count": 34,
     "metadata": {},
     "output_type": "execute_result"
    }
   ],
   "source": [
    "knn = KNeighborsRegressor(n_neighbors=4)\n",
    "knn.fit(X_train, y_train)"
   ]
  },
  {
   "cell_type": "code",
   "execution_count": 35,
   "id": "a79e8ee5",
   "metadata": {},
   "outputs": [
    {
     "name": "stdout",
     "output_type": "stream",
     "text": [
      "Accuracy of the model:\n",
      "0.9469242900861412\n"
     ]
    }
   ],
   "source": [
    "# Calculating and printing the accuracy of the model\n",
    "print(\"Accuracy of the model:\")\n",
    "print(knn.score(X_test, y_test))"
   ]
  },
  {
   "cell_type": "markdown",
   "id": "926a31ba",
   "metadata": {},
   "source": [
    "#### Accuracy Score: 94.69%\n",
    "\n",
    "* The KNN model's accuracy score is around 94.69% while using a test size of 15% and a random state of 1."
   ]
  },
  {
   "cell_type": "markdown",
   "id": "53b7484b",
   "metadata": {},
   "source": [
    "# Random Forest Regressor"
   ]
  },
  {
   "cell_type": "code",
   "execution_count": 36,
   "id": "cdec6676",
   "metadata": {},
   "outputs": [],
   "source": [
    "from sklearn.ensemble import RandomForestRegressor\n",
    "from sklearn.metrics import r2_score, mean_absolute_error"
   ]
  },
  {
   "cell_type": "code",
   "execution_count": 37,
   "id": "20bd6e21",
   "metadata": {},
   "outputs": [],
   "source": [
    "# Initializing the Random Forest Regressor\n",
    "random_forest = RandomForestRegressor(n_estimators=100, random_state=1)  #100 trees in the forest\n",
    "\n",
    "# Fitting the model on the training data\n",
    "random_forest.fit(X_train, y_train.values.ravel()) # Using ravel to convert y_train from a DataFrame to a 1D array\n",
    "\n",
    "# Predicting the test set\n",
    "y_pred_rf = random_forest.predict(X_test)"
   ]
  },
  {
   "cell_type": "code",
   "execution_count": 38,
   "id": "a1059a1b",
   "metadata": {},
   "outputs": [
    {
     "name": "stdout",
     "output_type": "stream",
     "text": [
      "Mean Absolute Error: 1381.5808333333332\n",
      "R² Score: 0.9527080782167443\n"
     ]
    }
   ],
   "source": [
    "# Evaluating the model\n",
    "rf_mae = mean_absolute_error(y_test, y_pred_rf)\n",
    "rf_r2 = r2_score(y_test, y_pred_rf)\n",
    "\n",
    "print(\"Mean Absolute Error:\", rf_mae)\n",
    "print(\"R² Score:\", rf_r2)"
   ]
  },
  {
   "cell_type": "markdown",
   "id": "3f60ed25",
   "metadata": {},
   "source": [
    "#### Accuracy Score: 95.27%\n",
    "\n",
    "* The Random Forest Regressor model accuracy score is around 95.27% when using 100 trees and a random state of 1."
   ]
  },
  {
   "cell_type": "markdown",
   "id": "260704b0",
   "metadata": {},
   "source": [
    "# Gradient Boosting Regressor"
   ]
  },
  {
   "cell_type": "code",
   "execution_count": 39,
   "id": "c415c176",
   "metadata": {},
   "outputs": [],
   "source": [
    "from sklearn.ensemble import GradientBoostingRegressor\n",
    "from sklearn.metrics import r2_score, mean_absolute_error"
   ]
  },
  {
   "cell_type": "code",
   "execution_count": 40,
   "id": "b6632eb2",
   "metadata": {},
   "outputs": [],
   "source": [
    "# Initializing the Gradient Boosting Regressor\n",
    "gradient_boosting = GradientBoostingRegressor(n_estimators=100, learning_rate=0.1, max_depth=3, random_state=1)\n",
    "\n",
    "# Fitting the model on training data\n",
    "gradient_boosting.fit(X_train, y_train.values.ravel())  # Ensuring y_train is in the correct format\n",
    "\n",
    "# Predicting the test set\n",
    "y_pred_gb = gradient_boosting.predict(X_test)"
   ]
  },
  {
   "cell_type": "code",
   "execution_count": 41,
   "id": "6ae6ffea",
   "metadata": {},
   "outputs": [
    {
     "name": "stdout",
     "output_type": "stream",
     "text": [
      "Mean Absolute Error: 1313.314432684156\n",
      "R² Score: 0.9794679379005762\n"
     ]
    }
   ],
   "source": [
    "# Evaluating the model\n",
    "gb_mae = mean_absolute_error(y_test, y_pred_gb)\n",
    "gb_r2 = r2_score(y_test, y_pred_gb)\n",
    "\n",
    "print(\"Mean Absolute Error:\", gb_mae)\n",
    "print(\"R² Score:\", gb_r2)"
   ]
  },
  {
   "cell_type": "markdown",
   "id": "ecaf41ce",
   "metadata": {},
   "source": [
    "#### Accuracy Score: 97.95%\n",
    "\n",
    "* The Gradient Boosting Regressor model accuracy score is around 97.95% when using n_estimators of 100, learning_rate of 0.1, max_depth of 3, and a random_state of 1.\n",
    "* The Gradient Boosting Regressor also has the best accuracy score out of the three machine learning models.   "
   ]
  },
  {
   "cell_type": "code",
   "execution_count": 42,
   "id": "f6c406df",
   "metadata": {},
   "outputs": [
    {
     "data": {
      "text/html": [
       "<div>\n",
       "<style scoped>\n",
       "    .dataframe tbody tr th:only-of-type {\n",
       "        vertical-align: middle;\n",
       "    }\n",
       "\n",
       "    .dataframe tbody tr th {\n",
       "        vertical-align: top;\n",
       "    }\n",
       "\n",
       "    .dataframe thead th {\n",
       "        text-align: right;\n",
       "    }\n",
       "</style>\n",
       "<table border=\"1\" class=\"dataframe\">\n",
       "  <thead>\n",
       "    <tr style=\"text-align: right;\">\n",
       "      <th></th>\n",
       "      <th>work_year</th>\n",
       "      <th>job_title</th>\n",
       "      <th>job_category</th>\n",
       "      <th>salary_currency</th>\n",
       "      <th>salary</th>\n",
       "      <th>salary_in_usd</th>\n",
       "      <th>employee_residence</th>\n",
       "      <th>experience_level</th>\n",
       "      <th>employment_type</th>\n",
       "      <th>work_setting</th>\n",
       "      <th>company_location</th>\n",
       "      <th>company_size</th>\n",
       "    </tr>\n",
       "  </thead>\n",
       "  <tbody>\n",
       "    <tr>\n",
       "      <th>0</th>\n",
       "      <td>2023</td>\n",
       "      <td>Data DevOps Engineer</td>\n",
       "      <td>Data Engineering</td>\n",
       "      <td>EUR</td>\n",
       "      <td>88000</td>\n",
       "      <td>95012</td>\n",
       "      <td>Germany</td>\n",
       "      <td>Mid-level</td>\n",
       "      <td>Full-time</td>\n",
       "      <td>Hybrid</td>\n",
       "      <td>Germany</td>\n",
       "      <td>L</td>\n",
       "    </tr>\n",
       "    <tr>\n",
       "      <th>1</th>\n",
       "      <td>2023</td>\n",
       "      <td>Data Architect</td>\n",
       "      <td>Data Architecture and Modeling</td>\n",
       "      <td>USD</td>\n",
       "      <td>186000</td>\n",
       "      <td>186000</td>\n",
       "      <td>United States</td>\n",
       "      <td>Senior</td>\n",
       "      <td>Full-time</td>\n",
       "      <td>In-person</td>\n",
       "      <td>United States</td>\n",
       "      <td>M</td>\n",
       "    </tr>\n",
       "    <tr>\n",
       "      <th>2</th>\n",
       "      <td>2023</td>\n",
       "      <td>Data Architect</td>\n",
       "      <td>Data Architecture and Modeling</td>\n",
       "      <td>USD</td>\n",
       "      <td>81800</td>\n",
       "      <td>81800</td>\n",
       "      <td>United States</td>\n",
       "      <td>Senior</td>\n",
       "      <td>Full-time</td>\n",
       "      <td>In-person</td>\n",
       "      <td>United States</td>\n",
       "      <td>M</td>\n",
       "    </tr>\n",
       "    <tr>\n",
       "      <th>3</th>\n",
       "      <td>2023</td>\n",
       "      <td>Data Scientist</td>\n",
       "      <td>Data Science and Research</td>\n",
       "      <td>USD</td>\n",
       "      <td>212000</td>\n",
       "      <td>212000</td>\n",
       "      <td>United States</td>\n",
       "      <td>Senior</td>\n",
       "      <td>Full-time</td>\n",
       "      <td>In-person</td>\n",
       "      <td>United States</td>\n",
       "      <td>M</td>\n",
       "    </tr>\n",
       "    <tr>\n",
       "      <th>4</th>\n",
       "      <td>2023</td>\n",
       "      <td>Data Scientist</td>\n",
       "      <td>Data Science and Research</td>\n",
       "      <td>USD</td>\n",
       "      <td>93300</td>\n",
       "      <td>93300</td>\n",
       "      <td>United States</td>\n",
       "      <td>Senior</td>\n",
       "      <td>Full-time</td>\n",
       "      <td>In-person</td>\n",
       "      <td>United States</td>\n",
       "      <td>M</td>\n",
       "    </tr>\n",
       "  </tbody>\n",
       "</table>\n",
       "</div>"
      ],
      "text/plain": [
       "   work_year             job_title                    job_category  \\\n",
       "0       2023  Data DevOps Engineer                Data Engineering   \n",
       "1       2023        Data Architect  Data Architecture and Modeling   \n",
       "2       2023        Data Architect  Data Architecture and Modeling   \n",
       "3       2023        Data Scientist       Data Science and Research   \n",
       "4       2023        Data Scientist       Data Science and Research   \n",
       "\n",
       "  salary_currency  salary  salary_in_usd employee_residence experience_level  \\\n",
       "0             EUR   88000          95012            Germany        Mid-level   \n",
       "1             USD  186000         186000      United States           Senior   \n",
       "2             USD   81800          81800      United States           Senior   \n",
       "3             USD  212000         212000      United States           Senior   \n",
       "4             USD   93300          93300      United States           Senior   \n",
       "\n",
       "  employment_type work_setting company_location company_size  \n",
       "0       Full-time       Hybrid          Germany            L  \n",
       "1       Full-time    In-person    United States            M  \n",
       "2       Full-time    In-person    United States            M  \n",
       "3       Full-time    In-person    United States            M  \n",
       "4       Full-time    In-person    United States            M  "
      ]
     },
     "execution_count": 42,
     "metadata": {},
     "output_type": "execute_result"
    }
   ],
   "source": [
    "data.head()"
   ]
  },
  {
   "cell_type": "markdown",
   "id": "db32dad2",
   "metadata": {},
   "source": [
    "# Summary:"
   ]
  },
  {
   "cell_type": "markdown",
   "id": "4d7b815e",
   "metadata": {},
   "source": [
    "* For my semester-long project, I developed a preliminary predictive analytics model by implementing three different models, including K-Nearest Neighbor, Random Forest, and Gradient Boosting, to predict salary prediction through jobs in the data field. Although the accuracy score was not initially what I had hoped for, it improved significantly after making a few adjustments. A few specific examples included using the original dataset and returning the few columns I dropped before: ' job_title', 'salary_currency', 'salary', and 'employee_residence'. In addition, since the dataset also includes data from jobs in the data field worldwide, I also got rid of the new column I created, which was called 'country_category'. It described whether a job was either in the 'United States' or 'Non-United States', which I thought after implementing the one-hot encoding it would simplify working with the dataset and not create too many columns, but I was wrong.\n",
    "\n",
    "* Overall, I enjoyed working with this dataset by applying explanatory data analysis to analyze the data and performing multiple machine learning models like K-Nearest Neighbor, Random Forest, and Gradient Boosting to predict the best accuracy possible. This project was a somewhat frustrating but humbling experience. Any feedback or suggestions would be greatly appreciated!  \n",
    "\n",
    "\n",
    "#### Sources used: \n",
    "* https://www.analyticsvidhya.com/blog/2018/08/k-nearest-neighbor-introduction-regression-python/#commentModule\n",
    "* https://www.geeksforgeeks.org/random-forest-regression-in-python/\n",
    "* https://scikitlearn.org/stable/modules/generated/sklearn.ensemble.GradientBoostingRegressor.html#:~:text=model_selection%20import%20train_test_split%20%3E%3E%3E%20X,0)%20%3E%3E%3E%20reg."
   ]
  }
 ],
 "metadata": {
  "kernelspec": {
   "display_name": "Python 3 (ipykernel)",
   "language": "python",
   "name": "python3"
  },
  "language_info": {
   "codemirror_mode": {
    "name": "ipython",
    "version": 3
   },
   "file_extension": ".py",
   "mimetype": "text/x-python",
   "name": "python",
   "nbconvert_exporter": "python",
   "pygments_lexer": "ipython3",
   "version": "3.9.13"
  }
 },
 "nbformat": 4,
 "nbformat_minor": 5
}
